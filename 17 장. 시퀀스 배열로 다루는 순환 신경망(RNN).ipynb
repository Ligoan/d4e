{
 "cells": [
  {
   "cell_type": "markdown",
   "metadata": {},
   "source": [
    "# LSTM을 이용한 로이터 뉴스 카테고리 분류하기\n",
    "\n",
    "목표: 모델이 텍스트를 입력 받아 적절한 의미 범주로 분류한다."
   ]
  },
  {
   "cell_type": "markdown",
   "metadata": {},
   "source": [
    "## 데이터셋 불러오기"
   ]
  },
  {
   "cell_type": "code",
   "execution_count": 45,
   "metadata": {},
   "outputs": [],
   "source": [
    "# 로이터 뉴스 데이터셋 불러오기\n",
    "from keras.datasets import reuters"
   ]
  },
  {
   "cell_type": "code",
   "execution_count": 46,
   "metadata": {},
   "outputs": [],
   "source": [
    "(train_data, train_labels), (test_data, test_labels) = reuters.load_data(num_words=1000, test_split=0.2)"
   ]
  },
  {
   "cell_type": "markdown",
   "metadata": {},
   "source": [
    "## 데이터 확인 및 전처리"
   ]
  },
  {
   "cell_type": "code",
   "execution_count": 47,
   "metadata": {},
   "outputs": [
    {
     "name": "stdout",
     "output_type": "stream",
     "text": [
      "46 범주\n",
      "8982 훈련용 뉴스 기사\n",
      "2246 시험용 뉴스 기사\n",
      "[1, 2, 2, 8, 43, 10, 447, 5, 25, 207, 270, 5, 2, 111, 16, 369, 186, 90, 67, 7, 89, 5, 19, 102, 6, 19, 124, 15, 90, 67, 84, 22, 482, 26, 7, 48, 4, 49, 8, 864, 39, 209, 154, 6, 151, 6, 83, 11, 15, 22, 155, 11, 15, 7, 48, 9, 2, 2, 504, 6, 258, 6, 272, 11, 15, 22, 134, 44, 11, 15, 16, 8, 197, 2, 90, 67, 52, 29, 209, 30, 32, 132, 6, 109, 15, 17, 12]\n",
      "87\n"
     ]
    }
   ],
   "source": [
    "# 데이터 확인하기\n",
    "import numpy as np\n",
    "\n",
    "category = np.max(train_labels) + 1\n",
    "print(category, '범주')\n",
    "print(len(train_data), '훈련용 뉴스 기사')\n",
    "print(len(test_data), '시험용 뉴스 기사')\n",
    "print(train_data[0])\n",
    "print(len(train_data[0]))"
   ]
  },
  {
   "cell_type": "code",
   "execution_count": 48,
   "metadata": {},
   "outputs": [
    {
     "data": {
      "text/plain": [
       "array([  0,   0,   0,   0,   0,   0,   0,   0,   0,   0,   0,   0,   0,\n",
       "         1,   2,   2,   8,  43,  10, 447,   5,  25, 207, 270,   5,   2,\n",
       "       111,  16, 369, 186,  90,  67,   7,  89,   5,  19, 102,   6,  19,\n",
       "       124,  15,  90,  67,  84,  22, 482,  26,   7,  48,   4,  49,   8,\n",
       "       864,  39, 209, 154,   6, 151,   6,  83,  11,  15,  22, 155,  11,\n",
       "        15,   7,  48,   9,   2,   2, 504,   6, 258,   6, 272,  11,  15,\n",
       "        22, 134,  44,  11,  15,  16,   8, 197,   2,  90,  67,  52,  29,\n",
       "       209,  30,  32, 132,   6, 109,  15,  17,  12])"
      ]
     },
     "execution_count": 48,
     "metadata": {},
     "output_type": "execute_result"
    }
   ],
   "source": [
    "# 데이터 전처리\n",
    "from keras.preprocessing import sequence\n",
    "\n",
    "train_data = sequence.pad_sequences(train_data, maxlen=100)\n",
    "test_data = sequence.pad_sequences(test_data, maxlen=100)\n",
    "\n",
    "train_data[0]"
   ]
  },
  {
   "cell_type": "code",
   "execution_count": 49,
   "metadata": {},
   "outputs": [],
   "source": [
    "from keras.utils import to_categorical\n",
    "train_labels = to_categorical(train_labels, num_classes=46)\n",
    "test_labels = to_categorical(test_labels, num_classes=46)"
   ]
  },
  {
   "cell_type": "code",
   "execution_count": 50,
   "metadata": {},
   "outputs": [
    {
     "data": {
      "text/plain": [
       "array([[0., 0., 0., ..., 0., 0., 0.],\n",
       "       [0., 0., 0., ..., 0., 0., 0.],\n",
       "       [0., 0., 0., ..., 0., 0., 0.],\n",
       "       ...,\n",
       "       [0., 0., 0., ..., 0., 0., 0.],\n",
       "       [0., 0., 0., ..., 0., 0., 0.],\n",
       "       [0., 0., 0., ..., 0., 0., 0.]], dtype=float32)"
      ]
     },
     "execution_count": 50,
     "metadata": {},
     "output_type": "execute_result"
    }
   ],
   "source": [
    "train_labels"
   ]
  },
  {
   "cell_type": "markdown",
   "metadata": {},
   "source": [
    "## 모델 구성"
   ]
  },
  {
   "cell_type": "code",
   "execution_count": 51,
   "metadata": {},
   "outputs": [],
   "source": [
    "# 모델 구성\n",
    "from keras import Sequential\n",
    "from keras.layers import Embedding, LSTM, Dense\n",
    "\n",
    "model = Sequential()\n",
    "model.add(Embedding(1000, 100))\n",
    "model.add(LSTM(100, activation='tanh'))\n",
    "model.add(Dense(46, activation='softmax'))"
   ]
  },
  {
   "cell_type": "code",
   "execution_count": 52,
   "metadata": {},
   "outputs": [
    {
     "name": "stdout",
     "output_type": "stream",
     "text": [
      "Model: \"sequential_3\"\n",
      "_________________________________________________________________\n",
      "Layer (type)                 Output Shape              Param #   \n",
      "=================================================================\n",
      "embedding_3 (Embedding)      (None, None, 100)         100000    \n",
      "_________________________________________________________________\n",
      "lstm_3 (LSTM)                (None, 100)               80400     \n",
      "_________________________________________________________________\n",
      "dense_3 (Dense)              (None, 46)                4646      \n",
      "=================================================================\n",
      "Total params: 185,046\n",
      "Trainable params: 185,046\n",
      "Non-trainable params: 0\n",
      "_________________________________________________________________\n"
     ]
    }
   ],
   "source": [
    "model.summary()"
   ]
  },
  {
   "cell_type": "code",
   "execution_count": 53,
   "metadata": {},
   "outputs": [],
   "source": [
    "# 모델 컴파일\n",
    "model.compile(optimizer='rmsprop',\n",
    "              loss='categorical_crossentropy',\n",
    "              metrics=['accuracy'])"
   ]
  },
  {
   "cell_type": "markdown",
   "metadata": {},
   "source": [
    "## 모델 학습"
   ]
  },
  {
   "cell_type": "code",
   "execution_count": null,
   "metadata": {},
   "outputs": [],
   "source": [
    "## 모델 학습\n",
    "import tensorflow\n",
    "#with tensorflow.device('/GPU:0'):\n",
    "history = model.fit(train_data, train_labels,\n",
    "                    epochs = 20,\n",
    "                    batch_size = 100,\n",
    "                    validation_split = 0.2)"
   ]
  },
  {
   "cell_type": "code",
   "execution_count": 87,
   "metadata": {},
   "outputs": [
    {
     "data": {
      "text/plain": [
       "{'loss': [2.442171573638916,\n",
       "  2.0528552532196045,\n",
       "  1.8845064640045166,\n",
       "  1.7861841917037964,\n",
       "  1.697594404220581,\n",
       "  1.590392827987671,\n",
       "  1.4981356859207153,\n",
       "  1.4284601211547852,\n",
       "  1.349707007408142,\n",
       "  1.2898228168487549,\n",
       "  1.2321956157684326,\n",
       "  1.1773247718811035,\n",
       "  1.1310105323791504,\n",
       "  1.0895577669143677,\n",
       "  1.0512560606002808,\n",
       "  1.0041013956069946,\n",
       "  0.9772356748580933,\n",
       "  0.9503331184387207,\n",
       "  0.9217619299888611,\n",
       "  0.8934959173202515],\n",
       " 'accuracy': [0.373973548412323,\n",
       "  0.47613081336021423,\n",
       "  0.5096729397773743,\n",
       "  0.5433542132377625,\n",
       "  0.5608907341957092,\n",
       "  0.5905358195304871,\n",
       "  0.6100208759307861,\n",
       "  0.6282532811164856,\n",
       "  0.6450939178466797,\n",
       "  0.6627696752548218,\n",
       "  0.6818371415138245,\n",
       "  0.6929714679718018,\n",
       "  0.703827440738678,\n",
       "  0.7198329567909241,\n",
       "  0.7290188074111938,\n",
       "  0.7395963668823242,\n",
       "  0.7466945052146912,\n",
       "  0.7551844120025635,\n",
       "  0.7628392577171326,\n",
       "  0.7696589827537537],\n",
       " 'val_loss': [2.072445869445801,\n",
       "  2.016538143157959,\n",
       "  1.7563740015029907,\n",
       "  1.7561826705932617,\n",
       "  1.7499024868011475,\n",
       "  1.5917936563491821,\n",
       "  1.5566997528076172,\n",
       "  1.4654532670974731,\n",
       "  1.469834566116333,\n",
       "  1.4428966045379639,\n",
       "  1.3396599292755127,\n",
       "  1.3754115104675293,\n",
       "  1.3567568063735962,\n",
       "  1.2605990171432495,\n",
       "  1.2921111583709717,\n",
       "  1.2730532884597778,\n",
       "  1.3211902379989624,\n",
       "  1.2727367877960205,\n",
       "  1.2597697973251343,\n",
       "  1.2780957221984863],\n",
       " 'val_accuracy': [0.4741235375404358,\n",
       "  0.45742905139923096,\n",
       "  0.542570948600769,\n",
       "  0.5486922860145569,\n",
       "  0.5531441569328308,\n",
       "  0.6004452109336853,\n",
       "  0.5887590646743774,\n",
       "  0.6271563768386841,\n",
       "  0.631051778793335,\n",
       "  0.639955461025238,\n",
       "  0.6627712845802307,\n",
       "  0.6533110737800598,\n",
       "  0.6638842225074768,\n",
       "  0.6883695125579834,\n",
       "  0.6939343214035034,\n",
       "  0.6917083859443665,\n",
       "  0.6711185574531555,\n",
       "  0.6961602568626404,\n",
       "  0.7011685967445374,\n",
       "  0.6961602568626404]}"
      ]
     },
     "execution_count": 87,
     "metadata": {},
     "output_type": "execute_result"
    }
   ],
   "source": [
    "history.history"
   ]
  },
  {
   "cell_type": "markdown",
   "metadata": {},
   "source": [
    "## 테스트"
   ]
  },
  {
   "cell_type": "code",
   "execution_count": 55,
   "metadata": {},
   "outputs": [
    {
     "data": {
      "text/plain": [
       "array([[0., 0., 0., ..., 0., 0., 0.],\n",
       "       [0., 0., 0., ..., 0., 0., 0.],\n",
       "       [0., 1., 0., ..., 0., 0., 0.],\n",
       "       ...,\n",
       "       [0., 0., 0., ..., 0., 0., 0.],\n",
       "       [0., 0., 0., ..., 0., 0., 0.],\n",
       "       [0., 0., 0., ..., 0., 0., 0.]], dtype=float32)"
      ]
     },
     "execution_count": 55,
     "metadata": {},
     "output_type": "execute_result"
    }
   ],
   "source": [
    "test_labels"
   ]
  },
  {
   "cell_type": "code",
   "execution_count": 60,
   "metadata": {},
   "outputs": [
    {
     "name": "stdout",
     "output_type": "stream",
     "text": [
      "71/71 [==============================] - 0s 5ms/step - loss: 1.3165 - accuracy: 0.6874\n"
     ]
    }
   ],
   "source": [
    "# 테스트 정확도 출력\n",
    "evaluataions = model.evaluate(test_data, test_labels)"
   ]
  },
  {
   "cell_type": "code",
   "execution_count": 61,
   "metadata": {},
   "outputs": [
    {
     "data": {
      "text/plain": [
       "[1.3165498971939087, 0.6874443292617798]"
      ]
     },
     "execution_count": 61,
     "metadata": {},
     "output_type": "execute_result"
    }
   ],
   "source": [
    "evaluataions"
   ]
  },
  {
   "cell_type": "code",
   "execution_count": 108,
   "metadata": {},
   "outputs": [
    {
     "data": {
      "image/png": "[encoded data removed]",
      "text/plain": [
       "<Figure size 600x600 with 1 Axes>"
      ]
     },
     "metadata": {},
     "output_type": "display_data"
    }
   ],
   "source": [
    "# 학습 곡선 그리기\n",
    "import matplotlib.pyplot as plt\n",
    "\n",
    "epochs = 20\n",
    "\n",
    "plt.figure(figsize=(6,6))\n",
    "plt.title(\"Test and Validation Data Loss\")\n",
    "plt.plot(range(1, epochs+1), history.history['loss'], 'r^-', label = 'loss')\n",
    "plt.plot(range(1, epochs+1), history.history['val_loss'], 'bo:', label = 'val_loss')\n",
    "plt.legend()\n",
    "\n",
    "plt.show()"
   ]
  },
  {
   "cell_type": "code",
   "execution_count": 109,
   "metadata": {},
   "outputs": [
    {
     "data": {
      "image/png": "[encoded data removed]",
      "text/plain": [
       "<Figure size 600x600 with 1 Axes>"
      ]
     },
     "metadata": {},
     "output_type": "display_data"
    }
   ],
   "source": [
    "plt.figure(figsize=(6,6))\n",
    "plt.title(\"Test and Validation Data Accuracy\")\n",
    "plt.plot(range(1, epochs+1), history.history['accuracy'], 'r^-', label = 'accuracy')\n",
    "plt.plot(range(1, epochs+1), history.history['val_accuracy'], 'bo:', label = 'val_accuracy')\n",
    "plt.legend()\n",
    "\n",
    "plt.show()"
   ]
  }
 ],
 "metadata": {
  "kernelspec": {
   "display_name": "Python 3",
   "language": "python",
   "name": "python3"
  },
  "language_info": {
   "codemirror_mode": {
    "name": "ipython",
    "version": 3
   },
   "file_extension": ".py",
   "mimetype": "text/x-python",
   "name": "python",
   "nbconvert_exporter": "python",
   "pygments_lexer": "ipython3",
   "version": "3.8.19"
  }
 },
 "nbformat": 4,
 "nbformat_minor": 2
}
